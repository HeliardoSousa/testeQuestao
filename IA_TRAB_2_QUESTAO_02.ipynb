{
  "nbformat": 4,
  "nbformat_minor": 0,
  "metadata": {
    "colab": {
      "name": "IA TRAB 2 - QUESTAO 02.ipynb",
      "provenance": []
    },
    "kernelspec": {
      "name": "python3",
      "display_name": "Python 3"
    },
    "language_info": {
      "name": "python"
    }
  },
  "cells": [
    {
      "cell_type": "code",
      "execution_count": null,
      "metadata": {
        "id": "HZdmG07SpHb0"
      },
      "outputs": [],
      "source": [
        "#IMPORTANDO AS BIBLIOTECAS\n",
        "import pandas as pd\n",
        "import numpy as np\n",
        "import matplotlib.pyplot as plt\n",
        "from random import shuffle\n",
        "from scipy import stats"
      ]
    },
    {
      "cell_type": "code",
      "source": [
        "#IMPORTANDO OS DADOS\n",
        "df=pd.read_csv('ex1data2.txt',sep=' ',header=None)\n",
        "df.columns=['x1','x2','y']\n",
        "#Adcionando o intercept\n",
        "df.insert(loc=0, column='x0', value=1)"
      ],
      "metadata": {
        "id": "6kfOmwLIpLjO"
      },
      "execution_count": null,
      "outputs": []
    },
    {
      "cell_type": "code",
      "source": [
        "#MOSTRANDO OS DADOS\n",
        "df.head()"
      ],
      "metadata": {
        "colab": {
          "base_uri": "https://localhost:8080/",
          "height": 206
        },
        "id": "YreGV53uqsis",
        "outputId": "02e884c0-e510-4cb0-9378-cb53d63685f4"
      },
      "execution_count": null,
      "outputs": [
        {
          "output_type": "execute_result",
          "data": {
            "text/html": [
              "\n",
              "  <div id=\"df-4f1e1064-6d7a-4ae3-bde7-a70123dd90b8\">\n",
              "    <div class=\"colab-df-container\">\n",
              "      <div>\n",
              "<style scoped>\n",
              "    .dataframe tbody tr th:only-of-type {\n",
              "        vertical-align: middle;\n",
              "    }\n",
              "\n",
              "    .dataframe tbody tr th {\n",
              "        vertical-align: top;\n",
              "    }\n",
              "\n",
              "    .dataframe thead th {\n",
              "        text-align: right;\n",
              "    }\n",
              "</style>\n",
              "<table border=\"1\" class=\"dataframe\">\n",
              "  <thead>\n",
              "    <tr style=\"text-align: right;\">\n",
              "      <th></th>\n",
              "      <th>x0</th>\n",
              "      <th>x1</th>\n",
              "      <th>x2</th>\n",
              "      <th>y</th>\n",
              "    </tr>\n",
              "  </thead>\n",
              "  <tbody>\n",
              "    <tr>\n",
              "      <th>0</th>\n",
              "      <td>1</td>\n",
              "      <td>2.104</td>\n",
              "      <td>3</td>\n",
              "      <td>3.999</td>\n",
              "    </tr>\n",
              "    <tr>\n",
              "      <th>1</th>\n",
              "      <td>1</td>\n",
              "      <td>1.600</td>\n",
              "      <td>3</td>\n",
              "      <td>3.299</td>\n",
              "    </tr>\n",
              "    <tr>\n",
              "      <th>2</th>\n",
              "      <td>1</td>\n",
              "      <td>2.400</td>\n",
              "      <td>3</td>\n",
              "      <td>3.690</td>\n",
              "    </tr>\n",
              "    <tr>\n",
              "      <th>3</th>\n",
              "      <td>1</td>\n",
              "      <td>1.416</td>\n",
              "      <td>2</td>\n",
              "      <td>2.320</td>\n",
              "    </tr>\n",
              "    <tr>\n",
              "      <th>4</th>\n",
              "      <td>1</td>\n",
              "      <td>3.000</td>\n",
              "      <td>4</td>\n",
              "      <td>5.399</td>\n",
              "    </tr>\n",
              "  </tbody>\n",
              "</table>\n",
              "</div>\n",
              "      <button class=\"colab-df-convert\" onclick=\"convertToInteractive('df-4f1e1064-6d7a-4ae3-bde7-a70123dd90b8')\"\n",
              "              title=\"Convert this dataframe to an interactive table.\"\n",
              "              style=\"display:none;\">\n",
              "        \n",
              "  <svg xmlns=\"http://www.w3.org/2000/svg\" height=\"24px\"viewBox=\"0 0 24 24\"\n",
              "       width=\"24px\">\n",
              "    <path d=\"M0 0h24v24H0V0z\" fill=\"none\"/>\n",
              "    <path d=\"M18.56 5.44l.94 2.06.94-2.06 2.06-.94-2.06-.94-.94-2.06-.94 2.06-2.06.94zm-11 1L8.5 8.5l.94-2.06 2.06-.94-2.06-.94L8.5 2.5l-.94 2.06-2.06.94zm10 10l.94 2.06.94-2.06 2.06-.94-2.06-.94-.94-2.06-.94 2.06-2.06.94z\"/><path d=\"M17.41 7.96l-1.37-1.37c-.4-.4-.92-.59-1.43-.59-.52 0-1.04.2-1.43.59L10.3 9.45l-7.72 7.72c-.78.78-.78 2.05 0 2.83L4 21.41c.39.39.9.59 1.41.59.51 0 1.02-.2 1.41-.59l7.78-7.78 2.81-2.81c.8-.78.8-2.07 0-2.86zM5.41 20L4 18.59l7.72-7.72 1.47 1.35L5.41 20z\"/>\n",
              "  </svg>\n",
              "      </button>\n",
              "      \n",
              "  <style>\n",
              "    .colab-df-container {\n",
              "      display:flex;\n",
              "      flex-wrap:wrap;\n",
              "      gap: 12px;\n",
              "    }\n",
              "\n",
              "    .colab-df-convert {\n",
              "      background-color: #E8F0FE;\n",
              "      border: none;\n",
              "      border-radius: 50%;\n",
              "      cursor: pointer;\n",
              "      display: none;\n",
              "      fill: #1967D2;\n",
              "      height: 32px;\n",
              "      padding: 0 0 0 0;\n",
              "      width: 32px;\n",
              "    }\n",
              "\n",
              "    .colab-df-convert:hover {\n",
              "      background-color: #E2EBFA;\n",
              "      box-shadow: 0px 1px 2px rgba(60, 64, 67, 0.3), 0px 1px 3px 1px rgba(60, 64, 67, 0.15);\n",
              "      fill: #174EA6;\n",
              "    }\n",
              "\n",
              "    [theme=dark] .colab-df-convert {\n",
              "      background-color: #3B4455;\n",
              "      fill: #D2E3FC;\n",
              "    }\n",
              "\n",
              "    [theme=dark] .colab-df-convert:hover {\n",
              "      background-color: #434B5C;\n",
              "      box-shadow: 0px 1px 3px 1px rgba(0, 0, 0, 0.15);\n",
              "      filter: drop-shadow(0px 1px 2px rgba(0, 0, 0, 0.3));\n",
              "      fill: #FFFFFF;\n",
              "    }\n",
              "  </style>\n",
              "\n",
              "      <script>\n",
              "        const buttonEl =\n",
              "          document.querySelector('#df-4f1e1064-6d7a-4ae3-bde7-a70123dd90b8 button.colab-df-convert');\n",
              "        buttonEl.style.display =\n",
              "          google.colab.kernel.accessAllowed ? 'block' : 'none';\n",
              "\n",
              "        async function convertToInteractive(key) {\n",
              "          const element = document.querySelector('#df-4f1e1064-6d7a-4ae3-bde7-a70123dd90b8');\n",
              "          const dataTable =\n",
              "            await google.colab.kernel.invokeFunction('convertToInteractive',\n",
              "                                                     [key], {});\n",
              "          if (!dataTable) return;\n",
              "\n",
              "          const docLinkHtml = 'Like what you see? Visit the ' +\n",
              "            '<a target=\"_blank\" href=https://colab.research.google.com/notebooks/data_table.ipynb>data table notebook</a>'\n",
              "            + ' to learn more about interactive tables.';\n",
              "          element.innerHTML = '';\n",
              "          dataTable['output_type'] = 'display_data';\n",
              "          await google.colab.output.renderOutput(dataTable, element);\n",
              "          const docLink = document.createElement('div');\n",
              "          docLink.innerHTML = docLinkHtml;\n",
              "          element.appendChild(docLink);\n",
              "        }\n",
              "      </script>\n",
              "    </div>\n",
              "  </div>\n",
              "  "
            ],
            "text/plain": [
              "   x0     x1  x2      y\n",
              "0   1  2.104   3  3.999\n",
              "1   1  1.600   3  3.299\n",
              "2   1  2.400   3  3.690\n",
              "3   1  1.416   2  2.320\n",
              "4   1  3.000   4  5.399"
            ]
          },
          "metadata": {},
          "execution_count": 29
        }
      ]
    },
    {
      "cell_type": "code",
      "source": [
        "#DEFININDO PARAMETROS\n",
        "alfa= 0.01;\n",
        "epocas=100;\n",
        "\n",
        "w=np.random.randn(1, 3)[0]/100"
      ],
      "metadata": {
        "id": "gevd7a9Pqu97"
      },
      "execution_count": null,
      "outputs": []
    },
    {
      "cell_type": "code",
      "source": [
        "#DISTRIBUIÇÃO DADOS\n",
        "plt.plot(df.x1,df.y,'*')\n",
        "plt.title('GRÁFICO DE DISPERSÃO Y CONTRA X1')\n",
        "plt.xlabel('x1')\n",
        "plt.ylabel('y')\n",
        "plt.show()"
      ],
      "metadata": {
        "colab": {
          "base_uri": "https://localhost:8080/",
          "height": 295
        },
        "id": "5bIJbdVfqyM5",
        "outputId": "5cd404dd-c80a-4ac7-b789-544c702897d6"
      },
      "execution_count": null,
      "outputs": [
        {
          "output_type": "display_data",
          "data": {
            "image/png": "[encoded data removed]",
            "text/plain": [
              "<Figure size 432x288 with 1 Axes>"
            ]
          },
          "metadata": {
            "needs_background": "light"
          }
        }
      ]
    },
    {
      "cell_type": "code",
      "source": [
        "#ALGORITMO DO GRADIENTE DESCENDENTE ESTOCÁSTICO\n",
        "data=df.values\n",
        "eqm=[]\n",
        "for i in range(epocas):\n",
        "    np.random.shuffle(data)\n",
        "    sum_eqm=0\n",
        "    for instance in data:\n",
        "        x=instance[0:3]\n",
        "        y=instance[3]\n",
        "        y_h=np.matmul(w,x)\n",
        "        erro=y-y_h\n",
        "        sum_eqm=sum_eqm+(erro*erro)\n",
        "        w = w + alfa*erro*x\n",
        "    eqm.append(sum_eqm/len(data))"
      ],
      "metadata": {
        "id": "E0Ba4oy-q02u"
      },
      "execution_count": null,
      "outputs": []
    },
    {
      "cell_type": "code",
      "source": [
        "#PLOT ERRO QUADRÁTICO MÉDIO\n",
        "plt.plot(eqm)\n",
        "plt.title('ERRO QUADRÁTICO MÉDIO POR ÉPOCAS')\n",
        "plt.xlabel('EQM')\n",
        "plt.ylabel('épocas')\n",
        "plt.show()"
      ],
      "metadata": {
        "colab": {
          "base_uri": "https://localhost:8080/",
          "height": 295
        },
        "id": "U2Yv3uXCq30M",
        "outputId": "fd4d4022-6cf4-45ee-f4ed-5bec0a3583c1"
      },
      "execution_count": null,
      "outputs": [
        {
          "output_type": "display_data",
          "data": {
            "image/png": "[encoded data removed]",
            "text/plain": [
              "<Figure size 432x288 with 1 Axes>"
            ]
          },
          "metadata": {
            "needs_background": "light"
          }
        }
      ]
    },
    {
      "cell_type": "code",
      "source": [
        "#NA MEDIDA QUE AS ÉPOCAS PASSAM O EQM DIMINUI, O QUE INDICA O APRENDIZADO."
      ],
      "metadata": {
        "id": "V9Prdmnby4tl"
      },
      "execution_count": null,
      "outputs": []
    },
    {
      "cell_type": "code",
      "source": [
        "#MINIMOS QUADRADOS\n",
        "\n",
        "data=df.values\n",
        "x=data[:,0:3]\n",
        "y=data[:,3]\n",
        "w_ls=np.matmul(np.matmul(np.linalg.pinv(np.matmul(x.T,x)),x.T),y)"
      ],
      "metadata": {
        "id": "TrixNTpeq6ZY"
      },
      "execution_count": null,
      "outputs": []
    },
    {
      "cell_type": "code",
      "source": [
        "#COMPARANDO COEFICIENTES"
      ],
      "metadata": {
        "id": "6fYNd9n9zZiN"
      },
      "execution_count": null,
      "outputs": []
    },
    {
      "cell_type": "code",
      "source": [
        "#GRADIENTE DESCENDENTE ESTOCÁSTICO\n",
        "\n",
        "w"
      ],
      "metadata": {
        "colab": {
          "base_uri": "https://localhost:8080/"
        },
        "id": "fvWHABJ4q9hc",
        "outputId": "f6e32ac8-d583-49e2-d721-1912febcd89d"
      },
      "execution_count": null,
      "outputs": [
        {
          "output_type": "execute_result",
          "data": {
            "text/plain": [
              "array([ 0.80939365,  1.41224805, -0.03422376])"
            ]
          },
          "metadata": {},
          "execution_count": 37
        }
      ]
    },
    {
      "cell_type": "code",
      "source": [
        "#MINIMOS QUADRADOS\n",
        "\n",
        "w_ls"
      ],
      "metadata": {
        "colab": {
          "base_uri": "https://localhost:8080/"
        },
        "id": "FH6nF8JzrB_Q",
        "outputId": "bed73a39-d0a7-4c0a-fa2f-4b681eddad6e"
      },
      "execution_count": null,
      "outputs": [
        {
          "output_type": "execute_result",
          "data": {
            "text/plain": [
              "array([ 0.8959791 ,  1.39210674, -0.08738019])"
            ]
          },
          "metadata": {},
          "execution_count": 38
        }
      ]
    },
    {
      "cell_type": "code",
      "source": [
        "#OS COEFICIENTES NÃO SÃO EXATAMENTES IGUAIS APESAR DE SEREM BEM PARECIDOS.DIFERENTEMENTE DO MÉTODO DOS MÍNIMOS\n",
        "# QUADRADOS QUE ENCONTRA OS COEFICIENTES DA REGRESSÃO LINEAR EM UMA ÚNICA ETAPA, O ALGORITMO DO GRADIENTE DESCENDENTE\n",
        "# ESTOCÁSTICO APRESENTARÁ RESULTADOS DIFERENTES SEMPRE QUE FOR EXECUTADO, UMA VEZ QUE UTILIZA ALEATÓRIAMENTE PORÇÕES\n",
        "# DOS EXEMPLOS DE TREINO."
      ],
      "metadata": {
        "id": "2pEGBOpmzm-s"
      },
      "execution_count": null,
      "outputs": []
    },
    {
      "cell_type": "code",
      "source": [
        "#GRADIENTE DESCENDENTE ESTOCÁSTICO X MINIMOS QUADRADOS\n",
        "\n",
        "fig = plt.figure()\n",
        "ax = plt.subplot(111)\n",
        "plt.plot(df.x1,np.matmul(df[['x0','x1','x2']].values,w),'b*',label='GRAD. DESC. ESTOCÁSTICO')\n",
        "plt.plot(df.x1,np.matmul(df[['x0','x1','x2']].values,w_ls),'r.',label='MINIMOS QUADRADOS')\n",
        "plt.title('DISTRIBUIÇÃO DAS AMOSTRAS ESTIMADAS')\n",
        "plt.xlabel('x1')\n",
        "plt.ylabel('y')\n",
        "ax.legend()\n",
        "plt.show()"
      ],
      "metadata": {
        "colab": {
          "base_uri": "https://localhost:8080/",
          "height": 297
        },
        "id": "KQ87TArhrEn5",
        "outputId": "0e50cbb1-c21c-446d-dc6e-b98ba6c094ab"
      },
      "execution_count": null,
      "outputs": [
        {
          "output_type": "display_data",
          "data": {
            "image/png": "[encoded data removed]",
            "text/plain": [
              "<Figure size 432x288 with 1 Axes>"
            ]
          },
          "metadata": {
            "needs_background": "light"
          }
        }
      ]
    }
  ]
}