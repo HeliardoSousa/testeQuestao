{
  "nbformat": 4,
  "nbformat_minor": 0,
  "metadata": {
    "colab": {
      "name": "IA TRAB 2 - QUESTAO 03.ipynb",
      "provenance": []
    },
    "kernelspec": {
      "name": "python3",
      "display_name": "Python 3"
    },
    "language_info": {
      "name": "python"
    }
  },
  "cells": [
    {
      "cell_type": "code",
      "execution_count": null,
      "metadata": {
        "id": "OMTP_W2jrW2I"
      },
      "outputs": [],
      "source": [
        "#IMPORTANDO BIBLIOTECAS\n",
        "import pandas as pd\n",
        "import numpy as np\n",
        "import matplotlib.pyplot as plt\n",
        "from random import shuffle\n",
        "from scipy import stats"
      ]
    },
    {
      "cell_type": "code",
      "source": [
        "#IMPORTANDO DADOS\n",
        "df=pd.read_csv('ex1data3.txt',sep=' ',header=None)\n",
        "df.columns=['x1','x2','x3','x4','x5','y']\n",
        "#Adcionando o intercept\n",
        "df.insert(loc=0, column='x0', value=1)"
      ],
      "metadata": {
        "id": "zlQr7LVBriqp"
      },
      "execution_count": null,
      "outputs": []
    },
    {
      "cell_type": "code",
      "source": [
        "#MOSTRANDO DADOS\n",
        "df.head()"
      ],
      "metadata": {
        "colab": {
          "base_uri": "https://localhost:8080/",
          "height": 206
        },
        "id": "qfT3IjjDryV6",
        "outputId": "6e0739cf-daed-486a-a99a-55ee232f9459"
      },
      "execution_count": null,
      "outputs": [
        {
          "output_type": "execute_result",
          "data": {
            "text/html": [
              "\n",
              "  <div id=\"df-40e438cb-20d2-4631-8526-30f9dd39cb58\">\n",
              "    <div class=\"colab-df-container\">\n",
              "      <div>\n",
              "<style scoped>\n",
              "    .dataframe tbody tr th:only-of-type {\n",
              "        vertical-align: middle;\n",
              "    }\n",
              "\n",
              "    .dataframe tbody tr th {\n",
              "        vertical-align: top;\n",
              "    }\n",
              "\n",
              "    .dataframe thead th {\n",
              "        text-align: right;\n",
              "    }\n",
              "</style>\n",
              "<table border=\"1\" class=\"dataframe\">\n",
              "  <thead>\n",
              "    <tr style=\"text-align: right;\">\n",
              "      <th></th>\n",
              "      <th>x0</th>\n",
              "      <th>x1</th>\n",
              "      <th>x2</th>\n",
              "      <th>x3</th>\n",
              "      <th>x4</th>\n",
              "      <th>x5</th>\n",
              "      <th>y</th>\n",
              "    </tr>\n",
              "  </thead>\n",
              "  <tbody>\n",
              "    <tr>\n",
              "      <th>0</th>\n",
              "      <td>1</td>\n",
              "      <td>2.104</td>\n",
              "      <td>3</td>\n",
              "      <td>1.214590</td>\n",
              "      <td>1.645454</td>\n",
              "      <td>2.040360</td>\n",
              "      <td>3.999</td>\n",
              "    </tr>\n",
              "    <tr>\n",
              "      <th>1</th>\n",
              "      <td>1</td>\n",
              "      <td>1.600</td>\n",
              "      <td>3</td>\n",
              "      <td>0.804845</td>\n",
              "      <td>1.156956</td>\n",
              "      <td>1.043933</td>\n",
              "      <td>3.299</td>\n",
              "    </tr>\n",
              "    <tr>\n",
              "      <th>2</th>\n",
              "      <td>1</td>\n",
              "      <td>2.400</td>\n",
              "      <td>3</td>\n",
              "      <td>1.526176</td>\n",
              "      <td>1.990969</td>\n",
              "      <td>2.735965</td>\n",
              "      <td>3.690</td>\n",
              "    </tr>\n",
              "    <tr>\n",
              "      <th>3</th>\n",
              "      <td>1</td>\n",
              "      <td>1.416</td>\n",
              "      <td>2</td>\n",
              "      <td>1.017324</td>\n",
              "      <td>1.048135</td>\n",
              "      <td>0.873698</td>\n",
              "      <td>2.320</td>\n",
              "    </tr>\n",
              "    <tr>\n",
              "      <th>4</th>\n",
              "      <td>1</td>\n",
              "      <td>3.000</td>\n",
              "      <td>4</td>\n",
              "      <td>1.352385</td>\n",
              "      <td>2.118710</td>\n",
              "      <td>2.403007</td>\n",
              "      <td>5.399</td>\n",
              "    </tr>\n",
              "  </tbody>\n",
              "</table>\n",
              "</div>\n",
              "      <button class=\"colab-df-convert\" onclick=\"convertToInteractive('df-40e438cb-20d2-4631-8526-30f9dd39cb58')\"\n",
              "              title=\"Convert this dataframe to an interactive table.\"\n",
              "              style=\"display:none;\">\n",
              "        \n",
              "  <svg xmlns=\"http://www.w3.org/2000/svg\" height=\"24px\"viewBox=\"0 0 24 24\"\n",
              "       width=\"24px\">\n",
              "    <path d=\"M0 0h24v24H0V0z\" fill=\"none\"/>\n",
              "    <path d=\"M18.56 5.44l.94 2.06.94-2.06 2.06-.94-2.06-.94-.94-2.06-.94 2.06-2.06.94zm-11 1L8.5 8.5l.94-2.06 2.06-.94-2.06-.94L8.5 2.5l-.94 2.06-2.06.94zm10 10l.94 2.06.94-2.06 2.06-.94-2.06-.94-.94-2.06-.94 2.06-2.06.94z\"/><path d=\"M17.41 7.96l-1.37-1.37c-.4-.4-.92-.59-1.43-.59-.52 0-1.04.2-1.43.59L10.3 9.45l-7.72 7.72c-.78.78-.78 2.05 0 2.83L4 21.41c.39.39.9.59 1.41.59.51 0 1.02-.2 1.41-.59l7.78-7.78 2.81-2.81c.8-.78.8-2.07 0-2.86zM5.41 20L4 18.59l7.72-7.72 1.47 1.35L5.41 20z\"/>\n",
              "  </svg>\n",
              "      </button>\n",
              "      \n",
              "  <style>\n",
              "    .colab-df-container {\n",
              "      display:flex;\n",
              "      flex-wrap:wrap;\n",
              "      gap: 12px;\n",
              "    }\n",
              "\n",
              "    .colab-df-convert {\n",
              "      background-color: #E8F0FE;\n",
              "      border: none;\n",
              "      border-radius: 50%;\n",
              "      cursor: pointer;\n",
              "      display: none;\n",
              "      fill: #1967D2;\n",
              "      height: 32px;\n",
              "      padding: 0 0 0 0;\n",
              "      width: 32px;\n",
              "    }\n",
              "\n",
              "    .colab-df-convert:hover {\n",
              "      background-color: #E2EBFA;\n",
              "      box-shadow: 0px 1px 2px rgba(60, 64, 67, 0.3), 0px 1px 3px 1px rgba(60, 64, 67, 0.15);\n",
              "      fill: #174EA6;\n",
              "    }\n",
              "\n",
              "    [theme=dark] .colab-df-convert {\n",
              "      background-color: #3B4455;\n",
              "      fill: #D2E3FC;\n",
              "    }\n",
              "\n",
              "    [theme=dark] .colab-df-convert:hover {\n",
              "      background-color: #434B5C;\n",
              "      box-shadow: 0px 1px 3px 1px rgba(0, 0, 0, 0.15);\n",
              "      filter: drop-shadow(0px 1px 2px rgba(0, 0, 0, 0.3));\n",
              "      fill: #FFFFFF;\n",
              "    }\n",
              "  </style>\n",
              "\n",
              "      <script>\n",
              "        const buttonEl =\n",
              "          document.querySelector('#df-40e438cb-20d2-4631-8526-30f9dd39cb58 button.colab-df-convert');\n",
              "        buttonEl.style.display =\n",
              "          google.colab.kernel.accessAllowed ? 'block' : 'none';\n",
              "\n",
              "        async function convertToInteractive(key) {\n",
              "          const element = document.querySelector('#df-40e438cb-20d2-4631-8526-30f9dd39cb58');\n",
              "          const dataTable =\n",
              "            await google.colab.kernel.invokeFunction('convertToInteractive',\n",
              "                                                     [key], {});\n",
              "          if (!dataTable) return;\n",
              "\n",
              "          const docLinkHtml = 'Like what you see? Visit the ' +\n",
              "            '<a target=\"_blank\" href=https://colab.research.google.com/notebooks/data_table.ipynb>data table notebook</a>'\n",
              "            + ' to learn more about interactive tables.';\n",
              "          element.innerHTML = '';\n",
              "          dataTable['output_type'] = 'display_data';\n",
              "          await google.colab.output.renderOutput(dataTable, element);\n",
              "          const docLink = document.createElement('div');\n",
              "          docLink.innerHTML = docLinkHtml;\n",
              "          element.appendChild(docLink);\n",
              "        }\n",
              "      </script>\n",
              "    </div>\n",
              "  </div>\n",
              "  "
            ],
            "text/plain": [
              "   x0     x1  x2        x3        x4        x5      y\n",
              "0   1  2.104   3  1.214590  1.645454  2.040360  3.999\n",
              "1   1  1.600   3  0.804845  1.156956  1.043933  3.299\n",
              "2   1  2.400   3  1.526176  1.990969  2.735965  3.690\n",
              "3   1  1.416   2  1.017324  1.048135  0.873698  2.320\n",
              "4   1  3.000   4  1.352385  2.118710  2.403007  5.399"
            ]
          },
          "metadata": {},
          "execution_count": 4
        }
      ]
    },
    {
      "cell_type": "code",
      "source": [
        "#DIVISÃO TREINO E TESTE\n",
        "data=df.values\n",
        "treino=data[0:30,:]\n",
        "teste=data[30:,:]\n",
        "\n",
        "x_treino=treino[:,0:6]\n",
        "y_treino=treino[:,6]\n",
        "x_teste=teste[:,0:6]\n",
        "y_teste=teste[:,6]"
      ],
      "metadata": {
        "id": "9BtGmoTKr28T"
      },
      "execution_count": null,
      "outputs": []
    },
    {
      "cell_type": "code",
      "source": [
        "W=[]\n",
        "norm_w=[]\n",
        "eqm_treino=[]\n",
        "eqm_teste=[]\n",
        "for lamb in range(0,6):\n",
        "    I=np.eye(6)\n",
        "    I[0,0]=0\n",
        "    w=np.matmul(np.matmul(np.linalg.pinv(np.matmul(x_treino.T,x_treino)+lamb*I),x_treino.T),y_treino)\n",
        "    eqm_treino.append(sum((y_treino-np.matmul(x_treino,w))**2)/30)\n",
        "    eqm_teste.append(sum((y_teste-np.matmul(x_teste,w))**2)/17)\n",
        "    norm_w.append(np.linalg.norm(w))\n",
        "    W.append(w)"
      ],
      "metadata": {
        "id": "OUIJuxGKsL4q"
      },
      "execution_count": null,
      "outputs": []
    },
    {
      "cell_type": "code",
      "source": [
        "np.linalg.norm(w)"
      ],
      "metadata": {
        "colab": {
          "base_uri": "https://localhost:8080/"
        },
        "id": "IEQkcziur7Hz",
        "outputId": "ead4d055-ed84-424c-b4a0-3d04403404c2"
      },
      "execution_count": 12,
      "outputs": [
        {
          "output_type": "execute_result",
          "data": {
            "text/plain": [
              "1.0669860811271124"
            ]
          },
          "metadata": {},
          "execution_count": 12
        }
      ]
    },
    {
      "cell_type": "code",
      "source": [
        "#NORMA VETOR DOS COEFICIENTES\n",
        "plt.plot(norm_w)\n",
        "plt.title('NORMA DO VETOR DE PESOS')\n",
        "plt.xlabel('Valor de regularização')\n",
        "plt.ylabel('Norma Euclidiana do vetor de coeficientes')\n",
        "plt.show()"
      ],
      "metadata": {
        "colab": {
          "base_uri": "https://localhost:8080/",
          "height": 295
        },
        "id": "KXv5B4GGsPMF",
        "outputId": "2f62719a-b730-4e34-a1e0-97e004963b15"
      },
      "execution_count": null,
      "outputs": [
        {
          "output_type": "display_data",
          "data": {
            "image/png": "[encoded data removed]",
            "text/plain": [
              "<Figure size 432x288 with 1 Axes>"
            ]
          },
          "metadata": {
            "needs_background": "light"
          }
        }
      ]
    },
    {
      "cell_type": "code",
      "source": [
        "#ERRO QUADRÁTICO MÉDIO -> EQM\n",
        "\n",
        "#EQM TREINO\n",
        "plt.plot(eqm_treino)\n",
        "plt.title('EQM NO TREINO')\n",
        "plt.xlabel('Valor de regularização')\n",
        "plt.ylabel('Erro quadrático médio')\n",
        "plt.show()"
      ],
      "metadata": {
        "colab": {
          "base_uri": "https://localhost:8080/",
          "height": 295
        },
        "id": "BQjaQ21BsR3r",
        "outputId": "4b33c6fa-2758-4c39-dc12-b4766012a5dc"
      },
      "execution_count": null,
      "outputs": [
        {
          "output_type": "display_data",
          "data": {
            "image/png": "[encoded data removed]",
            "text/plain": [
              "<Figure size 432x288 with 1 Axes>"
            ]
          },
          "metadata": {
            "needs_background": "light"
          }
        }
      ]
    },
    {
      "cell_type": "code",
      "source": [
        "#EQM TESTE\n",
        "plt.plot(eqm_teste)\n",
        "plt.title('EQM noteste')\n",
        "plt.xlabel('Valor de regularização')\n",
        "plt.ylabel('Erro quadrático médio')\n",
        "plt.show()"
      ],
      "metadata": {
        "id": "k6c5rbKpsVJ1",
        "outputId": "783e1f2e-79de-4e58-db06-027f9654481c",
        "colab": {
          "base_uri": "https://localhost:8080/",
          "height": 295
        }
      },
      "execution_count": null,
      "outputs": [
        {
          "output_type": "display_data",
          "data": {
            "image/png": "[encoded data removed]",
            "text/plain": [
              "<Figure size 432x288 with 1 Axes>"
            ]
          },
          "metadata": {
            "needs_background": "light"
          }
        }
      ]
    },
    {
      "cell_type": "code",
      "source": [
        "# PARA O MESMO FATOR DE REGULARIZAÇÃO O EQM AUMENTA NO TREINO E DIMINUE NO TESTE. EM ALGUNS CASOS, TEMOS O QUE CHAMA-SE\n",
        "#DE OVERFITING, QUE É QUANDO O VETOR DE COEFICIENTES DE REGRESSÃO W SE AJUSTA DEMAIS AO CONJUNTO DE TREINAMENTO, QUE É \n",
        "# QUANDO NOSSO MODELO FICA ENVIESADO COM OS DADOS DISPONIVEIS E ACABA ERRANDO MAIS NO CONJUNTO DE TESTE. PARA SOLUCAO\n",
        "# ADICIONAMOS UM FATOR DE REGULARIZAÇÃO QUE FORCA O ENCOLHIMENTO."
      ],
      "metadata": {
        "id": "lkaJ0UTn4o_u"
      },
      "execution_count": null,
      "outputs": []
    }
  ]
}